{
 "cells": [
  {
   "cell_type": "code",
   "execution_count": 1,
   "metadata": {
    "scrolled": true
   },
   "outputs": [
    {
     "name": "stdout",
     "output_type": "stream",
     "text": [
      "python开发工程师\n",
      "{'https://www.liepin.com/job/1927135335.shtml'}\n",
      "python开发工程师\n",
      "{'https://www.liepin.com/job/1926012273.shtml'}\n",
      "Python后端开发工程师\n",
      "{'https://www.liepin.com/job/1927227611.shtml'}\n",
      "python工程师\n",
      "{'https://www.liepin.com/job/1927226763.shtml'}\n",
      "python实习生\n",
      "{'https://www.liepin.com/job/1927226057.shtml'}\n",
      "python开发工程师\n",
      "{'https://www.liepin.com/job/1927225245.shtml'}\n",
      "大数据开发工程师（python方向）\n",
      "{'https://www.liepin.com/job/1924369011.shtml'}\n",
      "python爬虫工程师\n",
      "{'https://www.liepin.com/a/19547947.shtml'}\n",
      "Python\n",
      "{'https://www.liepin.com/job/1927219759.shtml'}\n",
      "Python开发工程师\n",
      "{'https://www.liepin.com/job/1927213717.shtml'}\n",
      "Data Analyst (Python) - Digital Solutions - SZ/HK\n",
      "{'https://www.liepin.com/job/1927211473.shtml'}\n",
      "python爬虫工程师\n",
      "{'https://www.liepin.com/job/1927210705.shtml'}\n",
      "高级Python后端开发\n",
      "{'https://www.liepin.com/job/1927209749.shtml'}\n",
      "python工程师\n",
      "{'https://www.liepin.com/job/1927206027.shtml'}\n",
      "Python软件开发工程师\n",
      "{'https://www.liepin.com/job/1927199433.shtml'}\n",
      "python开发工程师\n",
      "{'https://www.liepin.com/job/1927199367.shtml'}\n",
      "Python软件开发工程师\n",
      "{'https://www.liepin.com/job/1927198957.shtml'}\n",
      "python开发工程师\n",
      "{'https://www.liepin.com/job/1927180215.shtml'}\n",
      "python课程研究员\n",
      "{'https://www.liepin.com/job/1927178053.shtml'}\n",
      "Python 软件开发工程师\n",
      "{'https://www.liepin.com/job/1927177887.shtml'}\n",
      "Python开发工程师\n",
      "{'https://www.liepin.com/job/1927159213.shtml'}\n",
      "Python开发工程师\n",
      "{'https://www.liepin.com/job/1927158921.shtml'}\n",
      "Python开发工程师\n",
      "{'https://www.liepin.com/job/1927158919.shtml'}\n",
      "Python开发工程师\n",
      "{'https://www.liepin.com/job/1927158917.shtml'}\n",
      "Python开发工程师\n",
      "{'https://www.liepin.com/job/1927158915.shtml'}\n",
      "Python开发工程师\n",
      "{'https://www.liepin.com/job/1927158913.shtml'}\n",
      "Python开发工程师\n",
      "{'https://www.liepin.com/job/1927158911.shtml'}\n",
      "Python开发工程师\n",
      "{'https://www.liepin.com/job/1927158909.shtml'}\n",
      "Python开发工程师\n",
      "{'https://www.liepin.com/job/1927158907.shtml'}\n",
      "Python开发工程师\n",
      "{'https://www.liepin.com/job/1927158905.shtml'}\n",
      "Python开发工程师\n",
      "{'https://www.liepin.com/job/1927158903.shtml'}\n",
      "Python开发工程师\n",
      "{'https://www.liepin.com/job/1927158901.shtml'}\n",
      "Python开发工程师\n",
      "{'https://www.liepin.com/job/1927158899.shtml'}\n",
      "Python开发工程师\n",
      "{'https://www.liepin.com/job/1927158895.shtml'}\n",
      "Python开发工程师\n",
      "{'https://www.liepin.com/job/1927158893.shtml'}\n",
      "python开发工程师\n",
      "{'https://www.liepin.com/job/1927154205.shtml'}\n",
      "python开发工程师\n",
      "{'https://www.liepin.com/job/1927149779.shtml'}\n",
      "少儿编程讲师-python\n",
      "{'https://www.liepin.com/job/1927138027.shtml'}\n",
      "python web讲师\n",
      "{'https://www.liepin.com/job/1927116267.shtml'}\n",
      "python开发工程师\n",
      "{'https://www.liepin.com/job/1927082609.shtml'}\n"
     ]
    }
   ],
   "source": [
    "# 猎聘工作 找另外的工作/图片新闻 Bing找另外的图片\n",
    "\n",
    "from requests_html import HTMLSession\n",
    "\n",
    "session = HTMLSession()\n",
    "\n",
    "r = session.get(\"https://www.liepin.com/zhaopin/?key=python\")\n",
    "\n",
    "# 通过xpath找到工作标签\n",
    "news = r.html.xpath('//div[@class=\"job-info\"]/h3/a')\n",
    "# //往下找所有的元素也就是竖下不分层的元素，不分层所有元素，如果只是一个/的话就是一层，div就是div，中括号[]取条件，@就是按照它的属性，@attribute，属性=什么样子的内容\n",
    "\n",
    "for new in news:\n",
    "    print(new.text)  # 获得工作标题\n",
    "    print(new.absolute_links)  # 获得工作链接"
   ]
  },
  {
   "cell_type": "code",
   "execution_count": 2,
   "metadata": {
    "scrolled": true
   },
   "outputs": [
    {
     "name": "stdout",
     "output_type": "stream",
     "text": [
      "现场服务工程师\n",
      "{'https://www.liepin.com/job/1927219011.shtml'}\n",
      "银行粤语电话接听客\n",
      "{'https://www.liepin.com/job/1927211545.shtml'}\n",
      "法务主管岗\n",
      "{'https://www.liepin.com/job/1927208091.shtml'}\n",
      "推广经理(001355)\n",
      "{'https://www.liepin.com/job/1927203195.shtml'}\n",
      "化妆品销售客服\n",
      "{'https://www.liepin.com/job/1927202355.shtml'}\n",
      "产品经理（营养家）\n",
      "{'https://www.liepin.com/job/1927200915.shtml'}\n",
      "化妆品开发经理\n",
      "{'https://www.liepin.com/job/1927199509.shtml'}\n",
      "电商视觉主管/经理\n",
      "{'https://www.liepin.com/job/1927193365.shtml'}\n",
      "化妆品销售总监\n",
      "{'https://www.liepin.com/job/1927182155.shtml'}\n",
      "人才发展岗\n",
      "{'https://www.liepin.com/job/1927168205.shtml'}\n",
      "高级亚马逊运营专员（储备组长）\n",
      "{'https://www.liepin.com/job/1927163671.shtml'}\n",
      "总经理秘书\n",
      "{'https://www.liepin.com/job/1927149723.shtml'}\n",
      "招聘顾问/猎头顾问\n",
      "{'https://www.liepin.com/job/1927147653.shtml'}\n",
      "销售代表-食品胶体和稳定剂\n",
      "{'https://www.liepin.com/job/1927140899.shtml'}\n",
      "策划经理\n",
      "{'https://www.liepin.com/job/1927100109.shtml'}\n",
      "薪酬绩效经理/主管\n",
      "{'https://www.liepin.com/job/1927043307.shtml'}\n",
      "直播运营（快手）\n",
      "{'https://www.liepin.com/job/1926992523.shtml'}\n",
      "索赔经理\n",
      "{'https://www.liepin.com/job/1926992223.shtml'}\n",
      "美妆运营经理\n",
      "{'https://www.liepin.com/job/1926982283.shtml'}\n",
      "销售工程师（泵或流体领域）\n",
      "{'https://www.liepin.com/job/1926952639.shtml'}\n",
      "高级技术工程师 Senior Technical Engineer\n",
      "{'https://www.liepin.com/job/1926933847.shtml'}\n",
      "用户运营\n",
      "{'https://www.liepin.com/job/1926812715.shtml'}\n",
      "Web前端开发工程师\n",
      "{'https://www.liepin.com/job/1926806687.shtml'}\n",
      "法务总监\n",
      "{'https://www.liepin.com/job/1926742819.shtml'}\n",
      "高级营销经理（广东/广西/福建）\n",
      "{'https://www.liepin.com/job/1926687921.shtml'}\n",
      "审计专员\n",
      "{'https://www.liepin.com/job/1926665867.shtml'}\n",
      "客户服务岗\n",
      "{'https://www.liepin.com/job/1926501375.shtml'}\n",
      "渠道管理岗\n",
      "{'https://www.liepin.com/job/1926320977.shtml'}\n",
      "广告投放专员\n",
      "{'https://www.liepin.com/job/1926239931.shtml'}\n",
      "开发经理/高级开发经理（广东、广西、福建）\n",
      "{'https://www.liepin.com/job/1925841611.shtml'}\n",
      "培训发展主管\n",
      "{'https://www.liepin.com/job/1925753593.shtml'}\n",
      "市场运营总监\n",
      "{'https://www.liepin.com/job/1925632755.shtml'}\n",
      "OEM销售经理\n",
      "{'https://www.liepin.com/job/1924209367.shtml'}\n",
      "美导\n",
      "{'https://www.liepin.com/job/1924209247.shtml'}\n",
      "销售总监\n",
      "{'https://www.liepin.com/job/1924113685.shtml'}\n",
      "系统集成项目经理\n",
      "{'https://www.liepin.com/job/1923334383.shtml'}\n",
      "助理工艺工程师\n",
      "{'https://www.liepin.com/job/1922385539.shtml'}\n",
      "数据挖掘工程师\n",
      "{'https://www.liepin.com/job/1920605639.shtml'}\n",
      "董事长秘书\n",
      "{'https://www.liepin.com/job/1919850611.shtml'}\n",
      "销售经理（医院）\n",
      "{'https://www.liepin.com/job/1919442541.shtml'}\n"
     ]
    }
   ],
   "source": [
    "# 猎聘工作 找另外的工作用不同的限定不同城市\n",
    "\n",
    "from requests_html import HTMLSession\n",
    "\n",
    "session = HTMLSession()\n",
    "\n",
    "r = session.get(\"https://www.liepin.com/zhaopin/?key=广州\")\n",
    "\n",
    "# 通过xpath找到工作标签\n",
    "news = r.html.xpath('//div[@class=\"job-info\"]/h3/a')\n",
    "# //往下找所有的元素也就是竖下不分层的元素，不分层所有元素，如果只是一个/的话就是一层，div就是div，中括号[]取条件，@就是按照它的属性，@attribute，属性=什么样子的内容\n",
    "\n",
    "for new in news:\n",
    "    print(new.text)  # 获得工作标题\n",
    "    print(new.absolute_links)  # 获得工作链接"
   ]
  },
  {
   "cell_type": "code",
   "execution_count": 37,
   "metadata": {
    "scrolled": true
   },
   "outputs": [
    {
     "name": "stdout",
     "output_type": "stream",
     "text": [
      "面议 天津-西青区 统招本科 1年以上\n",
      "14-30k·16薪 深圳-南山区 统招本科 1年以上\n",
      "9-12k·12薪 武汉 本科及以上 2年以上\n",
      "8-13k·12薪 苏州 学历不限 经验不限\n",
      "3-6k·12薪 上海-黄浦区 本科及以上 经验不限\n",
      "12-24k·12薪 南京-雨花台区 本科及以上 经验不限\n",
      "面议 广州 本科及以上 经验不限\n",
      "8-15k·13薪 上海 本科及以上 3年以上\n",
      "8-15k·12薪 武汉-汉阳区 本科及以上 3年以上\n",
      "10-15k·17薪 武汉-关山 本科及以上 5年以上\n",
      "30-50k·13薪 不限 大专及以上 3年以上\n",
      "35-45k·14薪 上海-浦东新区 统招本科 5年以上\n",
      "20-30k·12薪 北京-海淀区 本科及以上 3年以上\n",
      "10-17k·12薪 珠海-香洲区 本科及以上 2年以上\n",
      "面议 深圳 本科及以上 3年以上\n",
      "25-50k·16薪 菲律宾 本科及以上 3年以上\n",
      "25-40k·14薪 北京-望京 统招本科 5年以上\n",
      "面议 北京 本科及以上 2年以上\n",
      "15-30k·12薪 杭州-滨江区 统招本科 经验不限\n",
      "10-20k·12薪 上海 大专及以上 2年以上\n",
      "10-20k·12薪 杭州-长河 本科及以上 1年以上\n",
      "10-17k·12薪 宁波-鄞州区 本科及以上 2年以上\n",
      "25-50k·12薪 北京-昌平区 本科及以上 5年以上\n",
      "8-16k·12薪 深圳-盐田区 本科及以上 2年以上\n",
      "18-30k·14薪 上海 统招本科 2年以上\n",
      "15-25k·12薪 武汉-黄陂区 本科及以上 2年以上\n",
      "15-25k·12薪 武汉-青山区 本科及以上 2年以上\n",
      "15-25k·12薪 武汉-江夏区 本科及以上 2年以上\n",
      "15-25k·12薪 武汉-武昌区 本科及以上 2年以上\n",
      "15-25k·12薪 武汉-蔡甸区 本科及以上 2年以上\n",
      "15-25k·12薪 武汉-汉阳区 本科及以上 2年以上\n",
      "15-25k·12薪 武汉-汉南区 本科及以上 2年以上\n",
      "15-25k·12薪 武汉-硚口区 本科及以上 2年以上\n",
      "15-25k·12薪 武汉-东西湖区 本科及以上 2年以上\n",
      "15-25k·12薪 武汉-江汉区 本科及以上 2年以上\n",
      "15-25k·12薪 武汉-新洲区 本科及以上 2年以上\n",
      "15-25k·12薪 武汉-洪山区 本科及以上 2年以上\n",
      "15-25k·12薪 上海-崇明区 本科及以上 2年以上\n",
      "15-25k·12薪 上海-奉贤区 本科及以上 2年以上\n",
      "15-25k·12薪 深圳 本科及以上 2年以上\n"
     ]
    }
   ],
   "source": [
    "# 猎聘工作 找另外的工作，抽取出extract薪水城市等信息\n",
    "\n",
    "from requests_html import HTMLSession\n",
    "\n",
    "session = HTMLSession()\n",
    "\n",
    "r = session.get(\"https://www.liepin.com/zhaopin/?key=python\")\n",
    "\n",
    "# 通过xpath找到工作标签\n",
    "jobs = r.html.xpath('//div[@class=\"job-info\"]/h3/a')\n",
    "news = r.html.xpath('//p[@class=\"condition clearfix\"]')\n",
    "# //往下找所有的元素也就是竖下不分层的元素，不分层所有元素，如果只是一个/的话就是一层，div就是div，中括号[]取条件，@就是按照它的属性，@attribute，属性=什么样子的内容\n",
    "\n",
    "\n",
    "for new in news:\n",
    "    print(new.text)  # 获得工作标题\n"
   ]
  },
  {
   "cell_type": "code",
   "execution_count": 39,
   "metadata": {},
   "outputs": [
    {
     "name": "stdout",
     "output_type": "stream",
     "text": [
      "data:image/png;base64,iVBORw0KGgoAAAANSUhEUgAAAAEAAAABCAQAAAC1HAwCAAAAC0lEQVR42mNgYAAAAAMAASsJTYQAAAAASUVORK5CYII=\n"
     ]
    },
    {
     "data": {
      "text/markdown": [
       "![](data:image/png;base64,iVBORw0KGgoAAAANSUhEUgAAAAEAAAABCAQAAAC1HAwCAAAAC0lEQVR42mNgYAAAAAMAASsJTYQAAAAASUVORK5CYII=)"
      ],
      "text/plain": [
       "<IPython.core.display.Markdown object>"
      ]
     },
     "metadata": {},
     "output_type": "display_data"
    },
    {
     "name": "stdout",
     "output_type": "stream",
     "text": [
      "https://tse1-mm.cn.bing.net/th/id/OET.bc70150f0a0f46e98b97ab7418544007?w=272&h=272&c=7&rs=1&o=5&pid=1.9\n"
     ]
    },
    {
     "data": {
      "text/markdown": [
       "![](https://tse1-mm.cn.bing.net/th/id/OET.bc70150f0a0f46e98b97ab7418544007?w=272&h=272&c=7&rs=1&o=5&pid=1.9)"
      ],
      "text/plain": [
       "<IPython.core.display.Markdown object>"
      ]
     },
     "metadata": {},
     "output_type": "display_data"
    },
    {
     "name": "stdout",
     "output_type": "stream",
     "text": [
      "https://tse1-mm.cn.bing.net/th/id/OET.6c67b92a90e642419f9d56226f0a1f25?w=272&h=135&c=7&rs=1&o=5&pid=1.9\n"
     ]
    },
    {
     "data": {
      "text/markdown": [
       "![](https://tse1-mm.cn.bing.net/th/id/OET.6c67b92a90e642419f9d56226f0a1f25?w=272&h=135&c=7&rs=1&o=5&pid=1.9)"
      ],
      "text/plain": [
       "<IPython.core.display.Markdown object>"
      ]
     },
     "metadata": {},
     "output_type": "display_data"
    },
    {
     "name": "stdout",
     "output_type": "stream",
     "text": [
      "https://tse1-mm.cn.bing.net/th/id/OET.e03c2838234f4cd1b3aa09541a208aab?w=272&h=135&c=7&rs=1&o=5&pid=1.9\n"
     ]
    },
    {
     "data": {
      "text/markdown": [
       "![](https://tse1-mm.cn.bing.net/th/id/OET.e03c2838234f4cd1b3aa09541a208aab?w=272&h=135&c=7&rs=1&o=5&pid=1.9)"
      ],
      "text/plain": [
       "<IPython.core.display.Markdown object>"
      ]
     },
     "metadata": {},
     "output_type": "display_data"
    },
    {
     "name": "stdout",
     "output_type": "stream",
     "text": [
      "https://tse1-mm.cn.bing.net/th/id/OET.843fba32bfe94c4085c86ca17dc7dcf1?w=272&h=135&c=7&rs=1&o=5&pid=1.9\n"
     ]
    },
    {
     "data": {
      "text/markdown": [
       "![](https://tse1-mm.cn.bing.net/th/id/OET.843fba32bfe94c4085c86ca17dc7dcf1?w=272&h=135&c=7&rs=1&o=5&pid=1.9)"
      ],
      "text/plain": [
       "<IPython.core.display.Markdown object>"
      ]
     },
     "metadata": {},
     "output_type": "display_data"
    },
    {
     "name": "stdout",
     "output_type": "stream",
     "text": [
      "https://tse1-mm.cn.bing.net/th/id/OET.c79e967af54b4bd2962ff5762873f19d?w=272&h=135&c=7&rs=1&o=5&pid=1.9\n"
     ]
    },
    {
     "data": {
      "text/markdown": [
       "![](https://tse1-mm.cn.bing.net/th/id/OET.c79e967af54b4bd2962ff5762873f19d?w=272&h=135&c=7&rs=1&o=5&pid=1.9)"
      ],
      "text/plain": [
       "<IPython.core.display.Markdown object>"
      ]
     },
     "metadata": {},
     "output_type": "display_data"
    },
    {
     "name": "stdout",
     "output_type": "stream",
     "text": [
      "https://tse1-mm.cn.bing.net/th/id/OET.114569a5ac5948839511c68dbb63138c?w=272&h=135&c=7&rs=1&o=5&pid=1.9\n"
     ]
    },
    {
     "data": {
      "text/markdown": [
       "![](https://tse1-mm.cn.bing.net/th/id/OET.114569a5ac5948839511c68dbb63138c?w=272&h=135&c=7&rs=1&o=5&pid=1.9)"
      ],
      "text/plain": [
       "<IPython.core.display.Markdown object>"
      ]
     },
     "metadata": {},
     "output_type": "display_data"
    },
    {
     "name": "stdout",
     "output_type": "stream",
     "text": [
      "https://tse1-mm.cn.bing.net/th/id/OET.af1cd8f22e12465fbc3a3710d5c49937?w=272&h=135&c=7&rs=1&o=5&pid=1.9\n"
     ]
    },
    {
     "data": {
      "text/markdown": [
       "![](https://tse1-mm.cn.bing.net/th/id/OET.af1cd8f22e12465fbc3a3710d5c49937?w=272&h=135&c=7&rs=1&o=5&pid=1.9)"
      ],
      "text/plain": [
       "<IPython.core.display.Markdown object>"
      ]
     },
     "metadata": {},
     "output_type": "display_data"
    },
    {
     "name": "stdout",
     "output_type": "stream",
     "text": [
      "https://tse1-mm.cn.bing.net/th/id/OET.c1db9a3ba2be4e009d47afb71ab3c20b?w=135&h=135&c=7&rs=1&o=5&pid=1.9\n"
     ]
    },
    {
     "data": {
      "text/markdown": [
       "![](https://tse1-mm.cn.bing.net/th/id/OET.c1db9a3ba2be4e009d47afb71ab3c20b?w=135&h=135&c=7&rs=1&o=5&pid=1.9)"
      ],
      "text/plain": [
       "<IPython.core.display.Markdown object>"
      ]
     },
     "metadata": {},
     "output_type": "display_data"
    },
    {
     "name": "stdout",
     "output_type": "stream",
     "text": [
      "https://tse1-mm.cn.bing.net/th/id/OET.e78b0b979bc74f59b809294edc34d10a?w=135&h=135&c=7&rs=1&o=5&pid=1.9\n"
     ]
    },
    {
     "data": {
      "text/markdown": [
       "![](https://tse1-mm.cn.bing.net/th/id/OET.e78b0b979bc74f59b809294edc34d10a?w=135&h=135&c=7&rs=1&o=5&pid=1.9)"
      ],
      "text/plain": [
       "<IPython.core.display.Markdown object>"
      ]
     },
     "metadata": {},
     "output_type": "display_data"
    },
    {
     "name": "stdout",
     "output_type": "stream",
     "text": [
      "https://tse1-mm.cn.bing.net/th/id/OET.249361366e2d43858acde0a77c5a1d4d?w=135&h=135&c=7&rs=1&o=5&pid=1.9\n"
     ]
    },
    {
     "data": {
      "text/markdown": [
       "![](https://tse1-mm.cn.bing.net/th/id/OET.249361366e2d43858acde0a77c5a1d4d?w=135&h=135&c=7&rs=1&o=5&pid=1.9)"
      ],
      "text/plain": [
       "<IPython.core.display.Markdown object>"
      ]
     },
     "metadata": {},
     "output_type": "display_data"
    },
    {
     "name": "stdout",
     "output_type": "stream",
     "text": [
      "https://tse1-mm.cn.bing.net/th/id/OET.21a0caa8b95c4b479180e20814e190e4?w=135&h=135&c=7&rs=1&o=5&pid=1.9\n"
     ]
    },
    {
     "data": {
      "text/markdown": [
       "![](https://tse1-mm.cn.bing.net/th/id/OET.21a0caa8b95c4b479180e20814e190e4?w=135&h=135&c=7&rs=1&o=5&pid=1.9)"
      ],
      "text/plain": [
       "<IPython.core.display.Markdown object>"
      ]
     },
     "metadata": {},
     "output_type": "display_data"
    },
    {
     "name": "stdout",
     "output_type": "stream",
     "text": [
      "https://tse1-mm.cn.bing.net/th/id/OET.0c62c79ee15146caa94830cbffe68a15?w=272&h=272&c=7&rs=1&o=5&pid=1.9\n"
     ]
    },
    {
     "data": {
      "text/markdown": [
       "![](https://tse1-mm.cn.bing.net/th/id/OET.0c62c79ee15146caa94830cbffe68a15?w=272&h=272&c=7&rs=1&o=5&pid=1.9)"
      ],
      "text/plain": [
       "<IPython.core.display.Markdown object>"
      ]
     },
     "metadata": {},
     "output_type": "display_data"
    },
    {
     "name": "stdout",
     "output_type": "stream",
     "text": [
      "https://tse1-mm.cn.bing.net/th/id/OET.91319928824a4a619e21ed4bb785c006?w=135&h=272&c=7&rs=1&o=5&pid=1.9\n"
     ]
    },
    {
     "data": {
      "text/markdown": [
       "![](https://tse1-mm.cn.bing.net/th/id/OET.91319928824a4a619e21ed4bb785c006?w=135&h=272&c=7&rs=1&o=5&pid=1.9)"
      ],
      "text/plain": [
       "<IPython.core.display.Markdown object>"
      ]
     },
     "metadata": {},
     "output_type": "display_data"
    },
    {
     "name": "stdout",
     "output_type": "stream",
     "text": [
      "https://tse1-mm.cn.bing.net/th/id/OET.269a1c8ab83f419db21f1447477f9d4d?w=135&h=272&c=7&rs=1&o=5&pid=1.9\n"
     ]
    },
    {
     "data": {
      "text/markdown": [
       "![](https://tse1-mm.cn.bing.net/th/id/OET.269a1c8ab83f419db21f1447477f9d4d?w=135&h=272&c=7&rs=1&o=5&pid=1.9)"
      ],
      "text/plain": [
       "<IPython.core.display.Markdown object>"
      ]
     },
     "metadata": {},
     "output_type": "display_data"
    },
    {
     "name": "stdout",
     "output_type": "stream",
     "text": [
      "https://tse1-mm.cn.bing.net/th/id/OET.e7020eeba24a423d9694f2874de81238?w=135&h=272&c=7&rs=1&o=5&pid=1.9\n"
     ]
    },
    {
     "data": {
      "text/markdown": [
       "![](https://tse1-mm.cn.bing.net/th/id/OET.e7020eeba24a423d9694f2874de81238?w=135&h=272&c=7&rs=1&o=5&pid=1.9)"
      ],
      "text/plain": [
       "<IPython.core.display.Markdown object>"
      ]
     },
     "metadata": {},
     "output_type": "display_data"
    },
    {
     "name": "stdout",
     "output_type": "stream",
     "text": [
      "https://tse1-mm.cn.bing.net/th/id/OET.569ec4dfca424c539a920eb5c8f9103e?w=135&h=272&c=7&rs=1&o=5&pid=1.9\n"
     ]
    },
    {
     "data": {
      "text/markdown": [
       "![](https://tse1-mm.cn.bing.net/th/id/OET.569ec4dfca424c539a920eb5c8f9103e?w=135&h=272&c=7&rs=1&o=5&pid=1.9)"
      ],
      "text/plain": [
       "<IPython.core.display.Markdown object>"
      ]
     },
     "metadata": {},
     "output_type": "display_data"
    },
    {
     "name": "stdout",
     "output_type": "stream",
     "text": [
      "https://tse1-mm.cn.bing.net/th/id/OET.d78d1790f0d54d0697f6cf01571d8c5d?w=135&h=272&c=7&rs=1&o=5&pid=1.9\n"
     ]
    },
    {
     "data": {
      "text/markdown": [
       "![](https://tse1-mm.cn.bing.net/th/id/OET.d78d1790f0d54d0697f6cf01571d8c5d?w=135&h=272&c=7&rs=1&o=5&pid=1.9)"
      ],
      "text/plain": [
       "<IPython.core.display.Markdown object>"
      ]
     },
     "metadata": {},
     "output_type": "display_data"
    },
    {
     "name": "stdout",
     "output_type": "stream",
     "text": [
      "https://tse1-mm.cn.bing.net/th/id/OET.0cb8103b50f644f7803116f3f3afbe19?w=135&h=272&c=7&rs=1&o=5&pid=1.9\n"
     ]
    },
    {
     "data": {
      "text/markdown": [
       "![](https://tse1-mm.cn.bing.net/th/id/OET.0cb8103b50f644f7803116f3f3afbe19?w=135&h=272&c=7&rs=1&o=5&pid=1.9)"
      ],
      "text/plain": [
       "<IPython.core.display.Markdown object>"
      ]
     },
     "metadata": {},
     "output_type": "display_data"
    },
    {
     "name": "stdout",
     "output_type": "stream",
     "text": [
      "https://tse1-mm.cn.bing.net/th/id/OET.15ebe1689a5e49148b32625ce7dfc3e7?w=135&h=135&c=7&rs=1&o=5&pid=1.9\n"
     ]
    },
    {
     "data": {
      "text/markdown": [
       "![](https://tse1-mm.cn.bing.net/th/id/OET.15ebe1689a5e49148b32625ce7dfc3e7?w=135&h=135&c=7&rs=1&o=5&pid=1.9)"
      ],
      "text/plain": [
       "<IPython.core.display.Markdown object>"
      ]
     },
     "metadata": {},
     "output_type": "display_data"
    },
    {
     "name": "stdout",
     "output_type": "stream",
     "text": [
      "https://tse1-mm.cn.bing.net/th/id/OET.9232ec87d1b44164b89cc86bceda2f89?w=135&h=135&c=7&rs=1&o=5&pid=1.9\n"
     ]
    },
    {
     "data": {
      "text/markdown": [
       "![](https://tse1-mm.cn.bing.net/th/id/OET.9232ec87d1b44164b89cc86bceda2f89?w=135&h=135&c=7&rs=1&o=5&pid=1.9)"
      ],
      "text/plain": [
       "<IPython.core.display.Markdown object>"
      ]
     },
     "metadata": {},
     "output_type": "display_data"
    },
    {
     "name": "stdout",
     "output_type": "stream",
     "text": [
      "https://tse1-mm.cn.bing.net/th/id/OET.84f864f390bc4c4da7a24442518e24d4?w=135&h=135&c=7&rs=1&o=5&pid=1.9\n"
     ]
    },
    {
     "data": {
      "text/markdown": [
       "![](https://tse1-mm.cn.bing.net/th/id/OET.84f864f390bc4c4da7a24442518e24d4?w=135&h=135&c=7&rs=1&o=5&pid=1.9)"
      ],
      "text/plain": [
       "<IPython.core.display.Markdown object>"
      ]
     },
     "metadata": {},
     "output_type": "display_data"
    },
    {
     "name": "stdout",
     "output_type": "stream",
     "text": [
      "https://tse1-mm.cn.bing.net/th/id/OET.8d985aa5d30644b38716ac203eaecf32?w=135&h=135&c=7&rs=1&o=5&pid=1.9\n"
     ]
    },
    {
     "data": {
      "text/markdown": [
       "![](https://tse1-mm.cn.bing.net/th/id/OET.8d985aa5d30644b38716ac203eaecf32?w=135&h=135&c=7&rs=1&o=5&pid=1.9)"
      ],
      "text/plain": [
       "<IPython.core.display.Markdown object>"
      ]
     },
     "metadata": {},
     "output_type": "display_data"
    },
    {
     "name": "stdout",
     "output_type": "stream",
     "text": [
      "https://tse1-mm.cn.bing.net/th/id/OET.94ec66594fbc486ea4a80fcf46a94a43?w=272&h=272&c=7&rs=1&o=5&pid=1.9\n"
     ]
    },
    {
     "data": {
      "text/markdown": [
       "![](https://tse1-mm.cn.bing.net/th/id/OET.94ec66594fbc486ea4a80fcf46a94a43?w=272&h=272&c=7&rs=1&o=5&pid=1.9)"
      ],
      "text/plain": [
       "<IPython.core.display.Markdown object>"
      ]
     },
     "metadata": {},
     "output_type": "display_data"
    },
    {
     "name": "stdout",
     "output_type": "stream",
     "text": [
      "https://tse1-mm.cn.bing.net/th/id/OET.ce8e35cf44254cc1937d3599379a8d2c?w=135&h=272&c=7&rs=1&o=5&pid=1.9\n"
     ]
    },
    {
     "data": {
      "text/markdown": [
       "![](https://tse1-mm.cn.bing.net/th/id/OET.ce8e35cf44254cc1937d3599379a8d2c?w=135&h=272&c=7&rs=1&o=5&pid=1.9)"
      ],
      "text/plain": [
       "<IPython.core.display.Markdown object>"
      ]
     },
     "metadata": {},
     "output_type": "display_data"
    },
    {
     "name": "stdout",
     "output_type": "stream",
     "text": [
      "https://tse1-mm.cn.bing.net/th/id/OET.9c7eaa350b1b47f6bd2eaaf62e5a186d?w=135&h=272&c=7&rs=1&o=5&pid=1.9\n"
     ]
    },
    {
     "data": {
      "text/markdown": [
       "![](https://tse1-mm.cn.bing.net/th/id/OET.9c7eaa350b1b47f6bd2eaaf62e5a186d?w=135&h=272&c=7&rs=1&o=5&pid=1.9)"
      ],
      "text/plain": [
       "<IPython.core.display.Markdown object>"
      ]
     },
     "metadata": {},
     "output_type": "display_data"
    },
    {
     "name": "stdout",
     "output_type": "stream",
     "text": [
      "https://tse1-mm.cn.bing.net/th/id/OET.4d85185c1c38460a99da2ecaa594b66e?w=135&h=272&c=7&rs=1&o=5&pid=1.9\n"
     ]
    },
    {
     "data": {
      "text/markdown": [
       "![](https://tse1-mm.cn.bing.net/th/id/OET.4d85185c1c38460a99da2ecaa594b66e?w=135&h=272&c=7&rs=1&o=5&pid=1.9)"
      ],
      "text/plain": [
       "<IPython.core.display.Markdown object>"
      ]
     },
     "metadata": {},
     "output_type": "display_data"
    },
    {
     "name": "stdout",
     "output_type": "stream",
     "text": [
      "https://tse1-mm.cn.bing.net/th/id/OET.b48c7915bd5c4e4ba4ca09d71f79757c?w=135&h=272&c=7&rs=1&o=5&pid=1.9\n"
     ]
    },
    {
     "data": {
      "text/markdown": [
       "![](https://tse1-mm.cn.bing.net/th/id/OET.b48c7915bd5c4e4ba4ca09d71f79757c?w=135&h=272&c=7&rs=1&o=5&pid=1.9)"
      ],
      "text/plain": [
       "<IPython.core.display.Markdown object>"
      ]
     },
     "metadata": {},
     "output_type": "display_data"
    },
    {
     "name": "stdout",
     "output_type": "stream",
     "text": [
      "https://tse1-mm.cn.bing.net/th/id/OET.fa5f3e5bd55f44f9b0f85f0271fa58bd?w=135&h=272&c=7&rs=1&o=5&pid=1.9\n"
     ]
    },
    {
     "data": {
      "text/markdown": [
       "![](https://tse1-mm.cn.bing.net/th/id/OET.fa5f3e5bd55f44f9b0f85f0271fa58bd?w=135&h=272&c=7&rs=1&o=5&pid=1.9)"
      ],
      "text/plain": [
       "<IPython.core.display.Markdown object>"
      ]
     },
     "metadata": {},
     "output_type": "display_data"
    },
    {
     "name": "stdout",
     "output_type": "stream",
     "text": [
      "https://tse1-mm.cn.bing.net/th/id/OET.d55a3d45e7c8436ea982b946e014cbdf?w=135&h=272&c=7&rs=1&o=5&pid=1.9\n"
     ]
    },
    {
     "data": {
      "text/markdown": [
       "![](https://tse1-mm.cn.bing.net/th/id/OET.d55a3d45e7c8436ea982b946e014cbdf?w=135&h=272&c=7&rs=1&o=5&pid=1.9)"
      ],
      "text/plain": [
       "<IPython.core.display.Markdown object>"
      ]
     },
     "metadata": {},
     "output_type": "display_data"
    },
    {
     "name": "stdout",
     "output_type": "stream",
     "text": [
      "https://tse1-mm.cn.bing.net/th/id/OET.126389af6ec542d783dd0b987f3f5535?w=135&h=135&c=7&rs=1&o=5&pid=1.9\n"
     ]
    },
    {
     "data": {
      "text/markdown": [
       "![](https://tse1-mm.cn.bing.net/th/id/OET.126389af6ec542d783dd0b987f3f5535?w=135&h=135&c=7&rs=1&o=5&pid=1.9)"
      ],
      "text/plain": [
       "<IPython.core.display.Markdown object>"
      ]
     },
     "metadata": {},
     "output_type": "display_data"
    },
    {
     "name": "stdout",
     "output_type": "stream",
     "text": [
      "https://tse1-mm.cn.bing.net/th/id/OET.e47575bfe7e04cb58e1145d0dd8bf661?w=135&h=135&c=7&rs=1&o=5&pid=1.9\n"
     ]
    },
    {
     "data": {
      "text/markdown": [
       "![](https://tse1-mm.cn.bing.net/th/id/OET.e47575bfe7e04cb58e1145d0dd8bf661?w=135&h=135&c=7&rs=1&o=5&pid=1.9)"
      ],
      "text/plain": [
       "<IPython.core.display.Markdown object>"
      ]
     },
     "metadata": {},
     "output_type": "display_data"
    },
    {
     "name": "stdout",
     "output_type": "stream",
     "text": [
      "https://tse1-mm.cn.bing.net/th/id/OET.443f23182e1b4a39bba6b5addd0a0a9e?w=135&h=135&c=7&rs=1&o=5&pid=1.9\n"
     ]
    },
    {
     "data": {
      "text/markdown": [
       "![](https://tse1-mm.cn.bing.net/th/id/OET.443f23182e1b4a39bba6b5addd0a0a9e?w=135&h=135&c=7&rs=1&o=5&pid=1.9)"
      ],
      "text/plain": [
       "<IPython.core.display.Markdown object>"
      ]
     },
     "metadata": {},
     "output_type": "display_data"
    },
    {
     "name": "stdout",
     "output_type": "stream",
     "text": [
      "https://tse1-mm.cn.bing.net/th/id/OET.9bfc3c7a14934163a44268a2f93839d8?w=135&h=135&c=7&rs=1&o=5&pid=1.9\n"
     ]
    },
    {
     "data": {
      "text/markdown": [
       "![](https://tse1-mm.cn.bing.net/th/id/OET.9bfc3c7a14934163a44268a2f93839d8?w=135&h=135&c=7&rs=1&o=5&pid=1.9)"
      ],
      "text/plain": [
       "<IPython.core.display.Markdown object>"
      ]
     },
     "metadata": {},
     "output_type": "display_data"
    },
    {
     "name": "stdout",
     "output_type": "stream",
     "text": [
      "https://tse1-mm.cn.bing.net/th/id/OET.efe3f9fc7f784df3824c2c4f6e05e77f?w=272&h=272&c=7&rs=1&o=5&pid=1.9\n"
     ]
    },
    {
     "data": {
      "text/markdown": [
       "![](https://tse1-mm.cn.bing.net/th/id/OET.efe3f9fc7f784df3824c2c4f6e05e77f?w=272&h=272&c=7&rs=1&o=5&pid=1.9)"
      ],
      "text/plain": [
       "<IPython.core.display.Markdown object>"
      ]
     },
     "metadata": {},
     "output_type": "display_data"
    },
    {
     "name": "stdout",
     "output_type": "stream",
     "text": [
      "https://tse1-mm.cn.bing.net/th/id/OET.b795a280749f48ca95a9dea4163cdb3c?w=272&h=135&c=7&rs=1&o=5&pid=1.9\n"
     ]
    },
    {
     "data": {
      "text/markdown": [
       "![](https://tse1-mm.cn.bing.net/th/id/OET.b795a280749f48ca95a9dea4163cdb3c?w=272&h=135&c=7&rs=1&o=5&pid=1.9)"
      ],
      "text/plain": [
       "<IPython.core.display.Markdown object>"
      ]
     },
     "metadata": {},
     "output_type": "display_data"
    },
    {
     "name": "stdout",
     "output_type": "stream",
     "text": [
      "https://tse1-mm.cn.bing.net/th/id/OET.4dc363ac1e1b4b6e996aee01aada03c0?w=272&h=135&c=7&rs=1&o=5&pid=1.9\n"
     ]
    },
    {
     "data": {
      "text/markdown": [
       "![](https://tse1-mm.cn.bing.net/th/id/OET.4dc363ac1e1b4b6e996aee01aada03c0?w=272&h=135&c=7&rs=1&o=5&pid=1.9)"
      ],
      "text/plain": [
       "<IPython.core.display.Markdown object>"
      ]
     },
     "metadata": {},
     "output_type": "display_data"
    },
    {
     "name": "stdout",
     "output_type": "stream",
     "text": [
      "https://tse1-mm.cn.bing.net/th/id/OET.009d7b6a10864f5895dd227b8b6aca5a?w=272&h=135&c=7&rs=1&o=5&pid=1.9\n"
     ]
    },
    {
     "data": {
      "text/markdown": [
       "![](https://tse1-mm.cn.bing.net/th/id/OET.009d7b6a10864f5895dd227b8b6aca5a?w=272&h=135&c=7&rs=1&o=5&pid=1.9)"
      ],
      "text/plain": [
       "<IPython.core.display.Markdown object>"
      ]
     },
     "metadata": {},
     "output_type": "display_data"
    },
    {
     "name": "stdout",
     "output_type": "stream",
     "text": [
      "https://tse1-mm.cn.bing.net/th/id/OET.4a23232f3da340bbbcea184defa95785?w=272&h=135&c=7&rs=1&o=5&pid=1.9\n"
     ]
    },
    {
     "data": {
      "text/markdown": [
       "![](https://tse1-mm.cn.bing.net/th/id/OET.4a23232f3da340bbbcea184defa95785?w=272&h=135&c=7&rs=1&o=5&pid=1.9)"
      ],
      "text/plain": [
       "<IPython.core.display.Markdown object>"
      ]
     },
     "metadata": {},
     "output_type": "display_data"
    },
    {
     "name": "stdout",
     "output_type": "stream",
     "text": [
      "https://tse1-mm.cn.bing.net/th/id/OET.33c7e256696349ab8261e9a8af156ac7?w=272&h=135&c=7&rs=1&o=5&pid=1.9\n"
     ]
    },
    {
     "data": {
      "text/markdown": [
       "![](https://tse1-mm.cn.bing.net/th/id/OET.33c7e256696349ab8261e9a8af156ac7?w=272&h=135&c=7&rs=1&o=5&pid=1.9)"
      ],
      "text/plain": [
       "<IPython.core.display.Markdown object>"
      ]
     },
     "metadata": {},
     "output_type": "display_data"
    },
    {
     "name": "stdout",
     "output_type": "stream",
     "text": [
      "https://tse1-mm.cn.bing.net/th/id/OET.07125a24199f49aca5c46ba40c130f86?w=272&h=135&c=7&rs=1&o=5&pid=1.9\n"
     ]
    },
    {
     "data": {
      "text/markdown": [
       "![](https://tse1-mm.cn.bing.net/th/id/OET.07125a24199f49aca5c46ba40c130f86?w=272&h=135&c=7&rs=1&o=5&pid=1.9)"
      ],
      "text/plain": [
       "<IPython.core.display.Markdown object>"
      ]
     },
     "metadata": {},
     "output_type": "display_data"
    },
    {
     "name": "stdout",
     "output_type": "stream",
     "text": [
      "https://tse1-mm.cn.bing.net/th/id/OET.e6e9bf3521a9440d80883ad9b303517b?w=135&h=135&c=7&rs=1&o=5&pid=1.9\n"
     ]
    },
    {
     "data": {
      "text/markdown": [
       "![](https://tse1-mm.cn.bing.net/th/id/OET.e6e9bf3521a9440d80883ad9b303517b?w=135&h=135&c=7&rs=1&o=5&pid=1.9)"
      ],
      "text/plain": [
       "<IPython.core.display.Markdown object>"
      ]
     },
     "metadata": {},
     "output_type": "display_data"
    },
    {
     "name": "stdout",
     "output_type": "stream",
     "text": [
      "https://tse1-mm.cn.bing.net/th/id/OET.fae29efc4ff648029f1ef70585843e62?w=135&h=135&c=7&rs=1&o=5&pid=1.9\n"
     ]
    },
    {
     "data": {
      "text/markdown": [
       "![](https://tse1-mm.cn.bing.net/th/id/OET.fae29efc4ff648029f1ef70585843e62?w=135&h=135&c=7&rs=1&o=5&pid=1.9)"
      ],
      "text/plain": [
       "<IPython.core.display.Markdown object>"
      ]
     },
     "metadata": {},
     "output_type": "display_data"
    },
    {
     "name": "stdout",
     "output_type": "stream",
     "text": [
      "https://tse1-mm.cn.bing.net/th/id/OET.2d20012bbff14d7b9b2fb9b386fba7d7?w=135&h=135&c=7&rs=1&o=5&pid=1.9\n"
     ]
    },
    {
     "data": {
      "text/markdown": [
       "![](https://tse1-mm.cn.bing.net/th/id/OET.2d20012bbff14d7b9b2fb9b386fba7d7?w=135&h=135&c=7&rs=1&o=5&pid=1.9)"
      ],
      "text/plain": [
       "<IPython.core.display.Markdown object>"
      ]
     },
     "metadata": {},
     "output_type": "display_data"
    },
    {
     "name": "stdout",
     "output_type": "stream",
     "text": [
      "https://tse1-mm.cn.bing.net/th/id/OET.22eceb574e414031bec812c28ead4b0d?w=135&h=135&c=7&rs=1&o=5&pid=1.9\n"
     ]
    },
    {
     "data": {
      "text/markdown": [
       "![](https://tse1-mm.cn.bing.net/th/id/OET.22eceb574e414031bec812c28ead4b0d?w=135&h=135&c=7&rs=1&o=5&pid=1.9)"
      ],
      "text/plain": [
       "<IPython.core.display.Markdown object>"
      ]
     },
     "metadata": {},
     "output_type": "display_data"
    },
    {
     "name": "stdout",
     "output_type": "stream",
     "text": [
      "https://tse1-mm.cn.bing.net/th/id/OET.1ec0493ebfc0451983e24ef7afab32cc?w=272&h=272&c=7&rs=1&o=5&pid=1.9\n"
     ]
    },
    {
     "data": {
      "text/markdown": [
       "![](https://tse1-mm.cn.bing.net/th/id/OET.1ec0493ebfc0451983e24ef7afab32cc?w=272&h=272&c=7&rs=1&o=5&pid=1.9)"
      ],
      "text/plain": [
       "<IPython.core.display.Markdown object>"
      ]
     },
     "metadata": {},
     "output_type": "display_data"
    },
    {
     "name": "stdout",
     "output_type": "stream",
     "text": [
      "https://tse1-mm.cn.bing.net/th/id/OET.1ca1d0f4d5af42f09decbe20d9258e08?w=272&h=135&c=7&rs=1&o=5&pid=1.9\n"
     ]
    },
    {
     "data": {
      "text/markdown": [
       "![](https://tse1-mm.cn.bing.net/th/id/OET.1ca1d0f4d5af42f09decbe20d9258e08?w=272&h=135&c=7&rs=1&o=5&pid=1.9)"
      ],
      "text/plain": [
       "<IPython.core.display.Markdown object>"
      ]
     },
     "metadata": {},
     "output_type": "display_data"
    },
    {
     "name": "stdout",
     "output_type": "stream",
     "text": [
      "https://tse1-mm.cn.bing.net/th/id/OET.ac36515ef40d41ce872ad24873b2b01e?w=272&h=135&c=7&rs=1&o=5&pid=1.9\n"
     ]
    },
    {
     "data": {
      "text/markdown": [
       "![](https://tse1-mm.cn.bing.net/th/id/OET.ac36515ef40d41ce872ad24873b2b01e?w=272&h=135&c=7&rs=1&o=5&pid=1.9)"
      ],
      "text/plain": [
       "<IPython.core.display.Markdown object>"
      ]
     },
     "metadata": {},
     "output_type": "display_data"
    },
    {
     "name": "stdout",
     "output_type": "stream",
     "text": [
      "https://tse1-mm.cn.bing.net/th/id/OET.191598f3fd704b93a141faa025145673?w=272&h=135&c=7&rs=1&o=5&pid=1.9\n"
     ]
    },
    {
     "data": {
      "text/markdown": [
       "![](https://tse1-mm.cn.bing.net/th/id/OET.191598f3fd704b93a141faa025145673?w=272&h=135&c=7&rs=1&o=5&pid=1.9)"
      ],
      "text/plain": [
       "<IPython.core.display.Markdown object>"
      ]
     },
     "metadata": {},
     "output_type": "display_data"
    },
    {
     "name": "stdout",
     "output_type": "stream",
     "text": [
      "https://tse1-mm.cn.bing.net/th/id/OET.eff35fefece14bc999ae04aa7c012c2c?w=272&h=135&c=7&rs=1&o=5&pid=1.9\n"
     ]
    },
    {
     "data": {
      "text/markdown": [
       "![](https://tse1-mm.cn.bing.net/th/id/OET.eff35fefece14bc999ae04aa7c012c2c?w=272&h=135&c=7&rs=1&o=5&pid=1.9)"
      ],
      "text/plain": [
       "<IPython.core.display.Markdown object>"
      ]
     },
     "metadata": {},
     "output_type": "display_data"
    },
    {
     "name": "stdout",
     "output_type": "stream",
     "text": [
      "https://tse1-mm.cn.bing.net/th/id/OET.5354bdc5fb5143968c7b8dcda370919e?w=272&h=135&c=7&rs=1&o=5&pid=1.9\n"
     ]
    },
    {
     "data": {
      "text/markdown": [
       "![](https://tse1-mm.cn.bing.net/th/id/OET.5354bdc5fb5143968c7b8dcda370919e?w=272&h=135&c=7&rs=1&o=5&pid=1.9)"
      ],
      "text/plain": [
       "<IPython.core.display.Markdown object>"
      ]
     },
     "metadata": {},
     "output_type": "display_data"
    },
    {
     "name": "stdout",
     "output_type": "stream",
     "text": [
      "https://tse1-mm.cn.bing.net/th/id/OET.0c681e62143e49929c2f44e30ab61b90?w=272&h=135&c=7&rs=1&o=5&pid=1.9\n"
     ]
    },
    {
     "data": {
      "text/markdown": [
       "![](https://tse1-mm.cn.bing.net/th/id/OET.0c681e62143e49929c2f44e30ab61b90?w=272&h=135&c=7&rs=1&o=5&pid=1.9)"
      ],
      "text/plain": [
       "<IPython.core.display.Markdown object>"
      ]
     },
     "metadata": {},
     "output_type": "display_data"
    },
    {
     "name": "stdout",
     "output_type": "stream",
     "text": [
      "https://tse1-mm.cn.bing.net/th/id/OET.738c80cb3daa48e79b6f29f100ec42ed?w=135&h=135&c=7&rs=1&o=5&pid=1.9\n"
     ]
    },
    {
     "data": {
      "text/markdown": [
       "![](https://tse1-mm.cn.bing.net/th/id/OET.738c80cb3daa48e79b6f29f100ec42ed?w=135&h=135&c=7&rs=1&o=5&pid=1.9)"
      ],
      "text/plain": [
       "<IPython.core.display.Markdown object>"
      ]
     },
     "metadata": {},
     "output_type": "display_data"
    },
    {
     "name": "stdout",
     "output_type": "stream",
     "text": [
      "https://tse1-mm.cn.bing.net/th/id/OET.8ec6c4aee5194b0a896db5ef3191afab?w=135&h=135&c=7&rs=1&o=5&pid=1.9\n"
     ]
    },
    {
     "data": {
      "text/markdown": [
       "![](https://tse1-mm.cn.bing.net/th/id/OET.8ec6c4aee5194b0a896db5ef3191afab?w=135&h=135&c=7&rs=1&o=5&pid=1.9)"
      ],
      "text/plain": [
       "<IPython.core.display.Markdown object>"
      ]
     },
     "metadata": {},
     "output_type": "display_data"
    },
    {
     "name": "stdout",
     "output_type": "stream",
     "text": [
      "https://tse1-mm.cn.bing.net/th/id/OET.7706e7f7221949bcb5f237c4fbfb7bc2?w=135&h=135&c=7&rs=1&o=5&pid=1.9\n"
     ]
    },
    {
     "data": {
      "text/markdown": [
       "![](https://tse1-mm.cn.bing.net/th/id/OET.7706e7f7221949bcb5f237c4fbfb7bc2?w=135&h=135&c=7&rs=1&o=5&pid=1.9)"
      ],
      "text/plain": [
       "<IPython.core.display.Markdown object>"
      ]
     },
     "metadata": {},
     "output_type": "display_data"
    },
    {
     "name": "stdout",
     "output_type": "stream",
     "text": [
      "https://tse1-mm.cn.bing.net/th/id/OET.78ff3df35c654a4b913b297134bd63e0?w=135&h=135&c=7&rs=1&o=5&pid=1.9\n"
     ]
    },
    {
     "data": {
      "text/markdown": [
       "![](https://tse1-mm.cn.bing.net/th/id/OET.78ff3df35c654a4b913b297134bd63e0?w=135&h=135&c=7&rs=1&o=5&pid=1.9)"
      ],
      "text/plain": [
       "<IPython.core.display.Markdown object>"
      ]
     },
     "metadata": {},
     "output_type": "display_data"
    },
    {
     "name": "stdout",
     "output_type": "stream",
     "text": [
      "https://tse1-mm.cn.bing.net/th/id/OET.409ef668387749e4af68a0dfce45c983?w=272&h=272&c=7&rs=1&o=5&pid=1.9\n"
     ]
    },
    {
     "data": {
      "text/markdown": [
       "![](https://tse1-mm.cn.bing.net/th/id/OET.409ef668387749e4af68a0dfce45c983?w=272&h=272&c=7&rs=1&o=5&pid=1.9)"
      ],
      "text/plain": [
       "<IPython.core.display.Markdown object>"
      ]
     },
     "metadata": {},
     "output_type": "display_data"
    },
    {
     "name": "stdout",
     "output_type": "stream",
     "text": [
      "https://tse1-mm.cn.bing.net/th/id/OET.9ad45a55f5ac4133909b7cf15cc36fde?w=272&h=135&c=7&rs=1&o=5&pid=1.9\n"
     ]
    },
    {
     "data": {
      "text/markdown": [
       "![](https://tse1-mm.cn.bing.net/th/id/OET.9ad45a55f5ac4133909b7cf15cc36fde?w=272&h=135&c=7&rs=1&o=5&pid=1.9)"
      ],
      "text/plain": [
       "<IPython.core.display.Markdown object>"
      ]
     },
     "metadata": {},
     "output_type": "display_data"
    },
    {
     "name": "stdout",
     "output_type": "stream",
     "text": [
      "https://tse1-mm.cn.bing.net/th/id/OET.ae179eedbe6e425484b14c8978fa4079?w=272&h=135&c=7&rs=1&o=5&pid=1.9\n"
     ]
    },
    {
     "data": {
      "text/markdown": [
       "![](https://tse1-mm.cn.bing.net/th/id/OET.ae179eedbe6e425484b14c8978fa4079?w=272&h=135&c=7&rs=1&o=5&pid=1.9)"
      ],
      "text/plain": [
       "<IPython.core.display.Markdown object>"
      ]
     },
     "metadata": {},
     "output_type": "display_data"
    },
    {
     "name": "stdout",
     "output_type": "stream",
     "text": [
      "https://tse1-mm.cn.bing.net/th/id/OET.164bf99f079a41c69d9fa0c349fa825f?w=272&h=135&c=7&rs=1&o=5&pid=1.9\n"
     ]
    },
    {
     "data": {
      "text/markdown": [
       "![](https://tse1-mm.cn.bing.net/th/id/OET.164bf99f079a41c69d9fa0c349fa825f?w=272&h=135&c=7&rs=1&o=5&pid=1.9)"
      ],
      "text/plain": [
       "<IPython.core.display.Markdown object>"
      ]
     },
     "metadata": {},
     "output_type": "display_data"
    },
    {
     "name": "stdout",
     "output_type": "stream",
     "text": [
      "https://tse1-mm.cn.bing.net/th/id/OET.9fb2529795ce419bb3f96a701a0edb36?w=272&h=135&c=7&rs=1&o=5&pid=1.9\n"
     ]
    },
    {
     "data": {
      "text/markdown": [
       "![](https://tse1-mm.cn.bing.net/th/id/OET.9fb2529795ce419bb3f96a701a0edb36?w=272&h=135&c=7&rs=1&o=5&pid=1.9)"
      ],
      "text/plain": [
       "<IPython.core.display.Markdown object>"
      ]
     },
     "metadata": {},
     "output_type": "display_data"
    },
    {
     "name": "stdout",
     "output_type": "stream",
     "text": [
      "https://tse1-mm.cn.bing.net/th/id/OET.3e3a5b91f801498984228dcc9ba6b743?w=272&h=135&c=7&rs=1&o=5&pid=1.9\n"
     ]
    },
    {
     "data": {
      "text/markdown": [
       "![](https://tse1-mm.cn.bing.net/th/id/OET.3e3a5b91f801498984228dcc9ba6b743?w=272&h=135&c=7&rs=1&o=5&pid=1.9)"
      ],
      "text/plain": [
       "<IPython.core.display.Markdown object>"
      ]
     },
     "metadata": {},
     "output_type": "display_data"
    },
    {
     "name": "stdout",
     "output_type": "stream",
     "text": [
      "https://tse1-mm.cn.bing.net/th/id/OET.81582f824b024116a5b7a91c185f968e?w=272&h=135&c=7&rs=1&o=5&pid=1.9\n"
     ]
    },
    {
     "data": {
      "text/markdown": [
       "![](https://tse1-mm.cn.bing.net/th/id/OET.81582f824b024116a5b7a91c185f968e?w=272&h=135&c=7&rs=1&o=5&pid=1.9)"
      ],
      "text/plain": [
       "<IPython.core.display.Markdown object>"
      ]
     },
     "metadata": {},
     "output_type": "display_data"
    },
    {
     "name": "stdout",
     "output_type": "stream",
     "text": [
      "https://tse1-mm.cn.bing.net/th/id/OET.e255cd1d563846faa4b1551556a2b85d?w=135&h=135&c=7&rs=1&o=5&pid=1.9\n"
     ]
    },
    {
     "data": {
      "text/markdown": [
       "![](https://tse1-mm.cn.bing.net/th/id/OET.e255cd1d563846faa4b1551556a2b85d?w=135&h=135&c=7&rs=1&o=5&pid=1.9)"
      ],
      "text/plain": [
       "<IPython.core.display.Markdown object>"
      ]
     },
     "metadata": {},
     "output_type": "display_data"
    },
    {
     "name": "stdout",
     "output_type": "stream",
     "text": [
      "https://tse1-mm.cn.bing.net/th/id/OET.6a0f85e050a54119a65ebecacd4d203a?w=135&h=135&c=7&rs=1&o=5&pid=1.9\n"
     ]
    },
    {
     "data": {
      "text/markdown": [
       "![](https://tse1-mm.cn.bing.net/th/id/OET.6a0f85e050a54119a65ebecacd4d203a?w=135&h=135&c=7&rs=1&o=5&pid=1.9)"
      ],
      "text/plain": [
       "<IPython.core.display.Markdown object>"
      ]
     },
     "metadata": {},
     "output_type": "display_data"
    },
    {
     "name": "stdout",
     "output_type": "stream",
     "text": [
      "https://tse1-mm.cn.bing.net/th/id/OET.2a67a683253746ae8f1062188c0d0c49?w=135&h=135&c=7&rs=1&o=5&pid=1.9\n"
     ]
    },
    {
     "data": {
      "text/markdown": [
       "![](https://tse1-mm.cn.bing.net/th/id/OET.2a67a683253746ae8f1062188c0d0c49?w=135&h=135&c=7&rs=1&o=5&pid=1.9)"
      ],
      "text/plain": [
       "<IPython.core.display.Markdown object>"
      ]
     },
     "metadata": {},
     "output_type": "display_data"
    },
    {
     "name": "stdout",
     "output_type": "stream",
     "text": [
      "https://tse1-mm.cn.bing.net/th/id/OET.0c734667886f4459af7239e907d705f7?w=135&h=135&c=7&rs=1&o=5&pid=1.9\n"
     ]
    },
    {
     "data": {
      "text/markdown": [
       "![](https://tse1-mm.cn.bing.net/th/id/OET.0c734667886f4459af7239e907d705f7?w=135&h=135&c=7&rs=1&o=5&pid=1.9)"
      ],
      "text/plain": [
       "<IPython.core.display.Markdown object>"
      ]
     },
     "metadata": {},
     "output_type": "display_data"
    },
    {
     "name": "stdout",
     "output_type": "stream",
     "text": [
      "/rs/5g/LB/ic/ytiieusXgM2K8bLkEDP-AS1ePds.png\n"
     ]
    },
    {
     "data": {
      "text/markdown": [
       "![](/rs/5g/LB/ic/ytiieusXgM2K8bLkEDP-AS1ePds.png)"
      ],
      "text/plain": [
       "<IPython.core.display.Markdown object>"
      ]
     },
     "metadata": {},
     "output_type": "display_data"
    }
   ],
   "source": [
    "# 图片新闻_Bing 找另外的图片 找另外的工作，抽取出图片图说等信息\n",
    "\n",
    "- - - - - - - 做不出来 - - - - - - \n",
    "\n",
    "\n",
    "from IPython.core.display import display, Markdown\n",
    "from requests_html import HTMLSession\n",
    "\n",
    "session = HTMLSession()\n",
    "\n",
    "r = session.get(\"https://cn.bing.com/images/trending\")\n",
    "\n",
    "# 通过xpath找到工作标签\n",
    "items = r.html.xpath('//img/@src')\n",
    "\n",
    "for url in items:\n",
    "    print(url)  # 获得图片src url\n",
    "    display(Markdown('![]({url})'.format(url=url)))  # 展示图片 "
   ]
  },
  {
   "cell_type": "code",
   "execution_count": null,
   "metadata": {},
   "outputs": [],
   "source": [
    "# 图片新闻_Bing 你如何按栏目（今日热图明星美女）抽取出图片、图说等信息"
   ]
  },
  {
   "cell_type": "code",
   "execution_count": null,
   "metadata": {},
   "outputs": [],
   "source": [
    "# 豆瓣电影排行榜 你如何ETL 抽取extract 转换transform 加载load 至目的端"
   ]
  },
  {
   "cell_type": "code",
   "execution_count": null,
   "metadata": {},
   "outputs": [],
   "source": []
  },
  {
   "cell_type": "code",
   "execution_count": null,
   "metadata": {},
   "outputs": [],
   "source": []
  },
  {
   "cell_type": "code",
   "execution_count": null,
   "metadata": {},
   "outputs": [],
   "source": []
  },
  {
   "cell_type": "code",
   "execution_count": null,
   "metadata": {},
   "outputs": [],
   "source": []
  },
  {
   "cell_type": "code",
   "execution_count": null,
   "metadata": {},
   "outputs": [],
   "source": []
  }
 ],
 "metadata": {
  "kernelspec": {
   "display_name": "Python 3",
   "language": "python",
   "name": "python3"
  },
  "language_info": {
   "codemirror_mode": {
    "name": "ipython",
    "version": 3
   },
   "file_extension": ".py",
   "mimetype": "text/x-python",
   "name": "python",
   "nbconvert_exporter": "python",
   "pygments_lexer": "ipython3",
   "version": "3.7.3"
  }
 },
 "nbformat": 4,
 "nbformat_minor": 2
}
